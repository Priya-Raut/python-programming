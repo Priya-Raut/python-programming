{
 "cells": [
  {
   "cell_type": "code",
   "execution_count": 1,
   "metadata": {},
   "outputs": [],
   "source": [
    "#1. Write a python program to sum all the items in a list"
   ]
  },
  {
   "cell_type": "code",
   "execution_count": 2,
   "metadata": {},
   "outputs": [
    {
     "name": "stdout",
     "output_type": "stream",
     "text": [
      "Enter the elements of the list: 2 4 5 6 7 8\n",
      "Sum of all items: 32\n"
     ]
    }
   ],
   "source": [
    "L=list(map(int, input(\"Enter the elements of the list: \").split()))\n",
    "print(f\"Sum of all items: {sum(L)}\")"
   ]
  },
  {
   "cell_type": "code",
   "execution_count": 3,
   "metadata": {},
   "outputs": [],
   "source": [
    "#2. Write a python program to count the number of strings where the string length is 4 or more and the 1st and last character are same from a given list of strings\n"
   ]
  },
  {
   "cell_type": "code",
   "execution_count": null,
   "metadata": {},
   "outputs": [],
   "source": [
    "S=list(map(int, input(\"Enter the strings you want to add to the list: \").split()))\n",
    "count=0\n",
    "for i in S:\n",
    "    if len(i)>3 and i[0]==i[-1]:\n",
    "        count+=1\n",
    "print(f\"The number of strings whose length is 4 or more and have the same 1st and last character is: {cou}\")"
   ]
  }
 ],
 "metadata": {
  "kernelspec": {
   "display_name": "Python 3",
   "language": "python",
   "name": "python3"
  },
  "language_info": {
   "codemirror_mode": {
    "name": "ipython",
    "version": 3
   },
   "file_extension": ".py",
   "mimetype": "text/x-python",
   "name": "python",
   "nbconvert_exporter": "python",
   "pygments_lexer": "ipython3",
   "version": "3.7.6"
  }
 },
 "nbformat": 4,
 "nbformat_minor": 4
}
