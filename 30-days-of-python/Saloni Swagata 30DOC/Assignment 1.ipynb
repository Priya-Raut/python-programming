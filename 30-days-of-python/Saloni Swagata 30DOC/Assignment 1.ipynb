{
 "cells": [
  {
   "cell_type": "code",
   "execution_count": 1,
   "metadata": {},
   "outputs": [],
   "source": [
    "#1. Write a python program to sum all the items in a list"
   ]
  },
  {
   "cell_type": "code",
   "execution_count": 2,
   "metadata": {},
   "outputs": [
    {
     "name": "stdout",
     "output_type": "stream",
     "text": [
      "Enter the elements of the list: 2 4 5 6 7 8\n",
      "Sum of all items: 32\n"
     ]
    }
   ],
   "source": [
    "L=list(map(int, input(\"Enter the elements of the list: \").split()))\n",
    "print(f\"Sum of all items: {sum(L)}\")"
   ]
  },
  {
   "cell_type": "code",
   "execution_count": 3,
   "metadata": {},
   "outputs": [],
   "source": [
    "#2. Write a python program to count the number of strings where the string length is 4 or more and the 1st and last character are same from a given list of strings\n"
   ]
  },
  {
   "cell_type": "code",
   "execution_count": 5,
   "metadata": {},
   "outputs": [
    {
     "name": "stdout",
     "output_type": "stream",
     "text": [
      "Enter the strings you want to add to the list: Saloni swagata madam mam \n",
      "The number of strings whose length is 4 or more and have the same 1st and last character is: 1\n"
     ]
    }
   ],
   "source": [
    "S=list(map(str, input(\"Enter the strings you want to add to the list: \").split()))\n",
    "count=0\n",
    "for i in S:\n",
    "    if len(i)>3 and i[0]==i[-1]:\n",
    "        count+=1\n",
    "print(f\"The number of strings whose length is 4 or more and have the same 1st and last character is: {count}\")"
   ]
  },
  {
   "cell_type": "code",
   "execution_count": 6,
   "metadata": {},
   "outputs": [],
   "source": [
    "#3. Write a python program to remove duplicates from a list"
   ]
  },
  {
   "cell_type": "code",
   "execution_count": 7,
   "metadata": {},
   "outputs": [
    {
     "name": "stdout",
     "output_type": "stream",
     "text": [
      "Enter the elements of the list: 5 2 3 5 5 5 4 3 2 saloni swagata saloni\n",
      "Non duplicate list: ['5', '2', '3', '4', 'saloni', 'swagata']\n"
     ]
    }
   ],
   "source": [
    "L=input(\"Enter the elements of the list: \").split()\n",
    "D=[]\n",
    "N=[]\n",
    "for i in range(len(L)):\n",
    "    if L[i] not in D:\n",
    "        if L[i] in L[i+1:]:\n",
    "            D.append(L[i])\n",
    "        N.append(L[i])\n",
    "print(f\"Non duplicate list: {N}\")"
   ]
  },
  {
   "cell_type": "code",
   "execution_count": 8,
   "metadata": {},
   "outputs": [],
   "source": [
    "#4. Multiple of 5, between 2000 and 3200(both included). The numbers obtained should be printed in a comma separated sequence on a single line"
   ]
  },
  {
   "cell_type": "code",
   "execution_count": null,
   "metadata": {},
   "outputs": [],
   "source": [
    "for i in range(2000,3205,5):\n",
    "    if i!=3200:\n",
    "        print(i, end=\",\")"
   ]
  }
 ],
 "metadata": {
  "kernelspec": {
   "display_name": "Python 3",
   "language": "python",
   "name": "python3"
  },
  "language_info": {
   "codemirror_mode": {
    "name": "ipython",
    "version": 3
   },
   "file_extension": ".py",
   "mimetype": "text/x-python",
   "name": "python",
   "nbconvert_exporter": "python",
   "pygments_lexer": "ipython3",
   "version": "3.7.6"
  }
 },
 "nbformat": 4,
 "nbformat_minor": 4
}
